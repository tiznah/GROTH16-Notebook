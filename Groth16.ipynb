{
 "cells": [
  {
   "cell_type": "markdown",
   "id": "af80bfc2",
   "metadata": {},
   "source": [
    "Toy GROTH16 implementation "
   ]
  },
  {
   "cell_type": "code",
   "execution_count": 7,
   "id": "52ef343b",
   "metadata": {},
   "outputs": [],
   "source": [
    "import numpy as np\n",
    "import galois\n",
    "from functools import reduce\n",
    "from py_ecc.bn128 import G1, G2, multiply, add, curve_order, pairing, neg, final_exponentiate, FQ12, Z1\n",
    "\n",
    "GF = galois.GF(curve_order)"
   ]
  },
  {
   "cell_type": "code",
   "execution_count": null,
   "id": "eb547f46",
   "metadata": {},
   "outputs": [],
   "source": [
    "\n"
   ]
  },
  {
   "cell_type": "code",
   "execution_count": null,
   "id": "5a5fe681",
   "metadata": {},
   "outputs": [],
   "source": []
  }
 ],
 "metadata": {
  "kernelspec": {
   "display_name": "Python 3",
   "language": "python",
   "name": "python3"
  },
  "language_info": {
   "codemirror_mode": {
    "name": "ipython",
    "version": 3
   },
   "file_extension": ".py",
   "mimetype": "text/x-python",
   "name": "python",
   "nbconvert_exporter": "python",
   "pygments_lexer": "ipython3",
   "version": "3.9.6"
  }
 },
 "nbformat": 4,
 "nbformat_minor": 5
}
